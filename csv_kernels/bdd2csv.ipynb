{
 "cells": [
  {
   "cell_type": "code",
   "execution_count": 1,
   "metadata": {},
   "outputs": [],
   "source": [
    "import csv\n",
    "import MySQLdb\n",
    "import sys\n",
    "import os\n",
    "import genCSV as gc"
   ]
  },
  {
   "cell_type": "code",
   "execution_count": 2,
   "metadata": {},
   "outputs": [],
   "source": [
    "# Class kernel\n",
    "class kernel:\n",
    "\n",
    "    def __init__(self, entry):\n",
    "        self.entry = entry\n",
    "\n",
    "    def get_cid(self):\n",
    "        return str(self.entry[0])\n",
    "\n",
    "    def get_entry(self):\n",
    "        return self.entry\n",
    "\n",
    "    def kernel2csv(self):\n",
    "        try:\n",
    "            final = list([self.entry[0]] + [str(self.entry[1])] + [str(self.entry[2])] + [self.entry[7]])\n",
    "            compressed = self.entry[8].split(\" , \")\n",
    "            parse_array = [i.split(\" : \") for i in compressed]\n",
    "            cprss = [fin[1] for fin in parse_array]\n",
    "            final += cprss\n",
    "\n",
    "            return final\n",
    "        except Exception as e:\n",
    "            #print(\"Entry len:\", len(self.entry))\n",
    "            print(\"\\n\" + str(e))\n",
    "            exit(-1)"
   ]
  },
  {
   "cell_type": "code",
   "execution_count": 3,
   "metadata": {},
   "outputs": [],
   "source": [
    "# Virtual machine IP adress\n",
    "HOST            = \"148.60.11.195\"\n",
    "\n",
    "## MySQL user\n",
    "DB_USER         = \"script2\"\n",
    "\n",
    "## MySQL password\n",
    "DB_PASSWD       = \"ud6cw3xNRKnrOz6H\""
   ]
  },
  {
   "cell_type": "code",
   "execution_count": 4,
   "metadata": {},
   "outputs": [],
   "source": [
    "# Create a new kernel instance from the physical kernel\n",
    "def compute_kernel(cid):\n",
    "    print(\"Computing range of cid...\", flush=True)\n",
    "    kernels_array = []\n",
    "    \n",
    "    try:\n",
    "        socket = MySQLdb.connect(HOST, DB_USER, DB_PASSWD, \"IrmaDB_prod\")\n",
    "        cursor = socket.cursor()\n",
    "        \n",
    "        for c in cid:\n",
    "            query = \"SELECT * FROM Compilations WHERE cid = %d and incremental_mod = 0\" % c\n",
    "            cursor.execute(query)\n",
    "            entry = cursor.fetchone()\n",
    "            \n",
    "            if entry is not None:\n",
    "                kernels_array.append(kernel(entry))\n",
    "    \n",
    "    except Exception as e:\n",
    "        print(str(e),\"\\n\" + \"Unable to connect to database c = \" + str(c), file=sys.stderr)\n",
    "        exit(-1)\n",
    "        \n",
    "    finally:\n",
    "        cursor.close()\n",
    "        socket.close()\n",
    "    \n",
    "    return kernels_array"
   ]
  },
  {
   "cell_type": "code",
   "execution_count": 5,
   "metadata": {},
   "outputs": [
    {
     "name": "stdout",
     "output_type": "stream",
     "text": [
      "config_bdd.csv created\n"
     ]
    }
   ],
   "source": [
    "def create_header():\n",
    "\n",
    "    conn = MySQLdb.connect(HOST, DB_USER, DB_PASSWD, \"IrmaDB_prod\")\n",
    "    cursor = conn.cursor()\n",
    "\n",
    "    get_prop = \"SELECT name, type FROM Properties\"\n",
    "    # Extract properties\n",
    "    cursor.execute(get_prop)\n",
    "    types_results = list(cursor.fetchall())\n",
    "\n",
    "    if len(types_results) == 0:\n",
    "        print(\"\\nError : Properties not present in database - You need to run Kanalyser first (https://github.com/TuxML/Kanalyser)\")\n",
    "\n",
    "    cursor.close()\n",
    "    conn.close()\n",
    "\n",
    "    # .config column names\n",
    "    names = [\"\"]*len(types_results)\n",
    "    index = 0\n",
    "    for (name, typ) in types_results:\n",
    "        names[index] = name\n",
    "        index += 1\n",
    "\n",
    "    with open(\"config_bdd.csv\", \"w\") as f:\n",
    "        head = (\"cid,date,time,vmlinux,GZIP-bzImage,GZIP-vmlinux,GZIP,BZIP2-bzImage,BZIP2-vmlinux,BZIP2,LZMA-bzImage,LZMA-vmlinux,LZMA,XZ-bzImage,XZ-vmlinux,XZ,LZO-bzImage,LZO-vmlinux,LZO,LZ4-bzImage,LZ4-vmlinux,LZ4,\" + \",\".join(names)).split(\",\")\n",
    "        writer = csv.DictWriter(f, head)\n",
    "        writer.writeheader()\n",
    "print(\"config_bdd.csv created\", flush=True)"
   ]
  },
  {
   "cell_type": "code",
   "execution_count": 6,
   "metadata": {},
   "outputs": [],
   "source": [
    "def to_csv(From, To):    \n",
    "    values = gc.genCSV(0, From, To)\n",
    "    \n",
    "    cid_array = [c for c in range(From, To)]\n",
    "    kernels_array = compute_kernel(cid_array)\n",
    "    \n",
    "    with open(\"config_bdd.csv\", \"a\") as csv_file:\n",
    "        writer = csv.writer(csv_file)\n",
    "        \n",
    "        if len(kernels_array) == 1:\n",
    "            entry_val = kernels_array[0].kernel2csv()\n",
    "            entry = entry_val + values\n",
    "            writer.writerow(entry)\n",
    "        else:\n",
    "\n",
    "            for num, k in enumerate(kernels_array):\n",
    "                try:\n",
    "                    entry_val = k.kernel2csv()\n",
    "                    entry = entry_val + values[num]\n",
    "                    # entry = k.kernel2csv() + values[num]       \n",
    "                    writer.writerow(entry)\n",
    "                except Exception as e:\n",
    "                    print(\"num:\", num)\n",
    "                    print(str(e))\n",
    "                    exit(-1)"
   ]
  },
  {
   "cell_type": "code",
   "execution_count": 7,
   "metadata": {
    "scrolled": true
   },
   "outputs": [
    {
     "name": "stdout",
     "output_type": "stream",
     "text": [
      "From 50510 to 76510\n",
      "Connecting to db IrmaDB_prod at 148.60.11.195...Done\n",
      "Filling rows :\n",
      "Progression: [--------------------] 0%####################] 100%Computing range of cid...\n",
      "\n",
      "Written!\n"
     ]
    }
   ],
   "source": [
    "if __name__ == \"__main__\":\n",
    "    \n",
    "    # Change values to append a new range of data from db to the csv\n",
    "    From = 50510\n",
    "    To = 76510\n",
    "    \n",
    "    if not os.path.exists(\"config_bdd.csv\"):\n",
    "        create_header()\n",
    "    \n",
    "    print(\"From %d to %d\" % (From, To))\n",
    "    to_csv(From, To)\n",
    "    print(\"\\nWritten!\")"
   ]
  },
  {
   "cell_type": "code",
   "execution_count": null,
   "metadata": {},
   "outputs": [],
   "source": []
  }
 ],
 "metadata": {
  "kernelspec": {
   "display_name": "Python 3",
   "language": "python",
   "name": "python3"
  },
  "language_info": {
   "codemirror_mode": {
    "name": "ipython",
    "version": 3
   },
   "file_extension": ".py",
   "mimetype": "text/x-python",
   "name": "python",
   "nbconvert_exporter": "python",
   "pygments_lexer": "ipython3",
   "version": "3.6.5"
  }
 },
 "nbformat": 4,
 "nbformat_minor": 2
}
