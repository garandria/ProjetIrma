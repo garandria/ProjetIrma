{
 "cells": [
  {
   "cell_type": "code",
   "execution_count": 1,
   "metadata": {},
   "outputs": [],
   "source": [
    "import MySQLdb\n",
    "import csv\n",
    "import os\n",
    "import subprocess"
   ]
  },
  {
   "cell_type": "code",
   "execution_count": null,
   "metadata": {},
   "outputs": [],
   "source": []
  },
  {
   "cell_type": "code",
   "execution_count": 2,
   "metadata": {},
   "outputs": [],
   "source": [
    "def write_header():\n",
    "    head = [\"cid\",\"time\",\"compile\",\"vmlinux\",\"GZIP-bzImage\",\"GZIP-vmlinux\",\"GZIP\",\"BZIP2-bzImage\",\"BZIP2-vmlinux\",\"BZIP2\",\"LZMA-bzImage\",\"LZMA-vmlinux\",\"LZMA\",\"XZ-bzImage\",\"XZ-vmlinux\",\"XZ\",\"LZO-bzImage\",\"LZO-vmlinux\",\"LZO\",\"LZ4-bzImage\",\"LZ4-vmlinux\",\"LZ4\",\"basic-vmlinux\",\"basic-GZIP-bzImage\",\"basic-GZIP-vmlinux\",\"basic-GZIP\",\"basic-BZIP2-bzImage\",\"basic-BZIP2-vmlinux\",\"basic-BZIP2\",\"basic-LZMA-bzImage\",\"basic-LZMA-vmlinux\",\"basic-LZMA\",\"basic-XZ-bzImage\",\"basic-XZ-vmlinux\",\"basic-XZ\",\"basic-LZO-bzImage\",\"basic-LZO-vmlinux\",\"basic-LZO\",\"basic-LZ4-bzImage\",\"basic-LZ4-vmlinux\",\"basic-LZ4\"]\n",
    "    with open(\"stats.csv\", 'w') as file:\n",
    "        writer = csv.DictWriter(file,head)\n",
    "        writer.writeheader()"
   ]
  },
  {
   "cell_type": "code",
   "execution_count": null,
   "metadata": {},
   "outputs": [],
   "source": []
  },
  {
   "cell_type": "code",
   "execution_count": 3,
   "metadata": {},
   "outputs": [],
   "source": [
    "def compute_rows():\n",
    "    try:\n",
    "        socket = MySQLdb.connect(HOST, DB_USER, DB_PASSWD, \"IrmaDB_prod\")\n",
    "        cursor = socket.cursor()\n",
    "\n",
    "        query = \"SELECT cid, compilation_time, core_size, compressed_sizes FROM Compilations WHERE cid >= 20000 ORDER BY cid DESC\"\n",
    "        cursor.execute(query)\n",
    "        entry = cursor.fetchall()\n",
    "    except:\n",
    "        print(\"Error\")\n",
    "    finally:\n",
    "        cursor.close()\n",
    "        socket.close()\n",
    "\n",
    "    return entry"
   ]
  },
  {
   "cell_type": "code",
   "execution_count": 4,
   "metadata": {},
   "outputs": [],
   "source": [
    "## Virtual machine IP adress\n",
    "HOST            = \"148.60.11.195\"\n",
    "\n",
    "## MySQL user\n",
    "DB_USER         = \"script2\"\n",
    "\n",
    "## MySQL password\n",
    "DB_PASSWD       = \"ud6cw3xNRKnrOz6H\""
   ]
  },
  {
   "cell_type": "code",
   "execution_count": 5,
   "metadata": {},
   "outputs": [],
   "source": [
    "def create_csv(entry):\n",
    "    \n",
    "    with open(\"stats.csv\", 'a') as file:\n",
    "        writer = csv.writer(file)\n",
    "        for line in entry:\n",
    "            writer.writerow(line)\n",
    "    \n",
    "    print(\"DONE\")"
   ]
  },
  {
   "cell_type": "code",
   "execution_count": 6,
   "metadata": {},
   "outputs": [],
   "source": [
    "def main():\n",
    "    subprocess.run(\"rm stats.csv\", shell=True)\n",
    "    if not os.path.exists(\"stats.csv\"):\n",
    "        write_header()    \n",
    "    create_csv(compute_rows())\n",
    "    subprocess.run('wc -c stats.csv', shell=True)"
   ]
  },
  {
   "cell_type": "code",
   "execution_count": 7,
   "metadata": {},
   "outputs": [
    {
     "name": "stdout",
     "output_type": "stream",
     "text": [
      "DONE\n"
     ]
    }
   ],
   "source": [
    "main()"
   ]
  }
 ],
 "metadata": {
  "kernelspec": {
   "display_name": "Python 3",
   "language": "python",
   "name": "python3"
  },
  "language_info": {
   "codemirror_mode": {
    "name": "ipython",
    "version": 3
   },
   "file_extension": ".py",
   "mimetype": "text/x-python",
   "name": "python",
   "nbconvert_exporter": "python",
   "pygments_lexer": "ipython3",
   "version": "3.6.5"
  }
 },
 "nbformat": 4,
 "nbformat_minor": 2
}
