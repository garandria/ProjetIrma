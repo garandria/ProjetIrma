{
 "cells": [
  {
   "cell_type": "code",
   "execution_count": 1,
   "metadata": {},
   "outputs": [],
   "source": [
    "import pandas as pd"
   ]
  },
  {
   "cell_type": "code",
   "execution_count": null,
   "metadata": {},
   "outputs": [],
   "source": []
  },
  {
   "cell_type": "code",
   "execution_count": 2,
   "metadata": {
    "scrolled": true
   },
   "outputs": [],
   "source": [
    "df = pd.read_csv('kernels_compare.csv')"
   ]
  },
  {
   "cell_type": "code",
   "execution_count": 3,
   "metadata": {},
   "outputs": [],
   "source": [
    "compression = [\"GZIP\",\"BZIP2\",\"LZMA\",\"XZ\",\"LZO\",\"LZ4\"]\n",
    "diff = {}"
   ]
  },
  {
   "cell_type": "code",
   "execution_count": 4,
   "metadata": {
    "scrolled": false
   },
   "outputs": [],
   "source": [
    "vmlin = {}\n",
    "vmlin[\"vmlinux\"] = df['vmlinux'] - df['basic-vmlinux']\n",
    "\n",
    "diff[\"vmlinux\"] = vmlin\n",
    "#print(\"diff: \" + str(diff))"
   ]
  },
  {
   "cell_type": "code",
   "execution_count": 5,
   "metadata": {
    "scrolled": true
   },
   "outputs": [],
   "source": [
    "bzDic = {}\n",
    "for c in compression:\n",
    "    bzDic[c] = df[c + '-bzImage'] - df['basic-' + c + '-bzImage']\n",
    "#print(\"bzImage dic :\\n\" + str(bzDic))\n",
    "\n",
    "diff[\"bzImage\"] = bzDic\n",
    "#print(\"diff: \" + str(diff))"
   ]
  },
  {
   "cell_type": "code",
   "execution_count": 6,
   "metadata": {},
   "outputs": [],
   "source": [
    "vmDic = {}\n",
    "for c in compression:\n",
    "    vmDic[c] = df[c + '-vmlinux'] - df['basic-' + c + '-vmlinux']\n",
    "#print(\"vmlinux dic : \" + str(vmDic))\n",
    "\n",
    "diff[\"compressed-vmlinux\"] = vmDic\n",
    "#print(\"diff: \" + str(diff))"
   ]
  },
  {
   "cell_type": "code",
   "execution_count": 7,
   "metadata": {},
   "outputs": [],
   "source": [
    "compress = {}\n",
    "for c in compression:\n",
    "    compress[c] = df[c] - df['basic-' + c]\n",
    "#print(\"compress dic : \" + str(compress))\n",
    "\n",
    "diff[\"vmlinux.bin\"] = compress\n",
    "average = {}"
   ]
  },
  {
   "cell_type": "code",
   "execution_count": 8,
   "metadata": {},
   "outputs": [],
   "source": [
    "for k in diff:\n",
    "    tmp = 0\n",
    "    size = -1\n",
    "    for keys,value in diff[k].items():\n",
    "        if size == -1:\n",
    "            size = len(diff[k][keys].keys())\n",
    "        tmp += value\n",
    "    tmp = tmp / size\n",
    "    average[k] = tmp"
   ]
  },
  {
   "cell_type": "code",
   "execution_count": 9,
   "metadata": {},
   "outputs": [],
   "source": [
    "#print(\"diff : \\n\" + str(diff))\n",
    "#print(\"\\n\")\n",
    "#print(\"average : \\n\" + str(average))"
   ]
  },
  {
   "cell_type": "code",
   "execution_count": 10,
   "metadata": {
    "scrolled": false
   },
   "outputs": [
    {
     "name": "stdout",
     "output_type": "stream",
     "text": [
      "vmlinux has an average difference of : 1.1444897959183673 in Bytes\n",
      "bzImage has an average difference of : 28.421224489795918 in Bytes\n",
      "compressed-vmlinux has an average difference of : 28.421224489795918 in Bytes\n",
      "vmlinux.bin has an average difference of : 26.066734693877553 in Bytes\n"
     ]
    }
   ],
   "source": [
    "s = \"\"\n",
    "for k,v in average.items():\n",
    "    tmp = 0\n",
    "    for i in v:\n",
    "        tmp += i\n",
    "    tmp = tmp/len(v)\n",
    "    s += k + \" has an average difference of : \" + str(abs(tmp)) + ' in Bytes\\n'\n",
    "print(s[:-1])"
   ]
  }
 ],
 "metadata": {
  "kernelspec": {
   "display_name": "Python 3",
   "language": "python",
   "name": "python3"
  },
  "language_info": {
   "codemirror_mode": {
    "name": "ipython",
    "version": 3
   },
   "file_extension": ".py",
   "mimetype": "text/x-python",
   "name": "python",
   "nbconvert_exporter": "python",
   "pygments_lexer": "ipython3",
   "version": "3.6.5"
  }
 },
 "nbformat": 4,
 "nbformat_minor": 2
}
